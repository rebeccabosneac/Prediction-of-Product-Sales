{
  "nbformat": 4,
  "nbformat_minor": 0,
  "metadata": {
    "colab": {
      "provenance": [],
      "authorship_tag": "ABX9TyME9D2iPFwhxU+JXvgqzyfb",
      "include_colab_link": true
    },
    "kernelspec": {
      "name": "python3",
      "display_name": "Python 3"
    },
    "language_info": {
      "name": "python"
    }
  },
  "cells": [
    {
      "cell_type": "markdown",
      "metadata": {
        "id": "view-in-github",
        "colab_type": "text"
      },
      "source": [
        "<a href=\"https://colab.research.google.com/github/rebeccabosneac/Prediction-of-Product-Sales/blob/main/Prediction_of_Product_Sales.ipynb\" target=\"_parent\"><img src=\"https://colab.research.google.com/assets/colab-badge.svg\" alt=\"Open In Colab\"/></a>"
      ]
    },
    {
      "cell_type": "markdown",
      "source": [
        "# Prediction of Product Sales"
      ],
      "metadata": {
        "id": "hNIGxq7aWPNU"
      }
    },
    {
      "cell_type": "markdown",
      "source": [
        "- Author: Rebecca Amaya"
      ],
      "metadata": {
        "id": "VuRASEAzWc9c"
      }
    },
    {
      "cell_type": "markdown",
      "source": [
        "## Project Overview"
      ],
      "metadata": {
        "id": "WTSjC0LSWpV0"
      }
    },
    {
      "cell_type": "markdown",
      "source": [],
      "metadata": {
        "id": "J3M_NmCZXAIz"
      }
    },
    {
      "cell_type": "markdown",
      "source": [
        "## Load and Inspect Data"
      ],
      "metadata": {
        "id": "YkgXTTYGWpP4"
      }
    },
    {
      "cell_type": "code",
      "source": [],
      "metadata": {
        "id": "AFStn4rCW92v"
      },
      "execution_count": null,
      "outputs": []
    },
    {
      "cell_type": "markdown",
      "source": [
        "## Clean Data"
      ],
      "metadata": {
        "id": "S4mn0ap6WpHv"
      }
    },
    {
      "cell_type": "code",
      "source": [],
      "metadata": {
        "id": "HyqV6ki5W9YL"
      },
      "execution_count": null,
      "outputs": []
    },
    {
      "cell_type": "markdown",
      "source": [
        "## Exploratory Data Analysis"
      ],
      "metadata": {
        "id": "2OHXTfnjWpAh"
      }
    },
    {
      "cell_type": "code",
      "source": [],
      "metadata": {
        "id": "4q2PUaK0W83D"
      },
      "execution_count": null,
      "outputs": []
    },
    {
      "cell_type": "markdown",
      "source": [
        "## Feature Inspection"
      ],
      "metadata": {
        "id": "bv-Bg-BkWoqZ"
      }
    },
    {
      "cell_type": "code",
      "execution_count": null,
      "metadata": {
        "id": "Hh2tKUdGWGgS"
      },
      "outputs": [],
      "source": []
    }
  ]
}